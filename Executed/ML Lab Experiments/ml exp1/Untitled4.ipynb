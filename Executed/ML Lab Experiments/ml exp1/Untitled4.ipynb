{
 "cells": [
  {
   "cell_type": "code",
   "execution_count": 7,
   "id": "dab46d5b-cad3-4579-a823-27a0cbc86167",
   "metadata": {},
   "outputs": [
    {
     "name": "stdout",
     "output_type": "stream",
     "text": [
      "Most specific hypothesis: ['sunny', 'warm', '?', 'strong', '?', '?']\n"
     ]
    }
   ],
   "source": [
    "import csv\n",
    "\n",
    "file_path = r\"C:\\\\Users\\\\LAB\\\\Downloads\\\\data.csv\"  \n",
    "with open(file_path, 'r') as file:\n",
    "    reader = csv.reader(file)\n",
    "    data = list(reader)\n",
    "\n",
    "hypothesis = ['0'] * (len(data[0]) - 1)\n",
    "\n",
    "for instance in data:\n",
    "    if instance[-1].strip().lower() == 'yes':  \n",
    "        for i in range(len(hypothesis)):\n",
    "            if hypothesis[i] == '0':  \n",
    "                hypothesis[i] = instance[i]\n",
    "            elif instance[i] != hypothesis[i]:\n",
    "                hypothesis[i] = '?' \n",
    "print(\"Most specific hypothesis:\", hypothesis)"
   ]
  },
  {
   "cell_type": "code",
   "execution_count": null,
   "id": "68cd84b0-caa4-4683-983e-5f884b2dcdad",
   "metadata": {},
   "outputs": [],
   "source": []
  }
 ],
 "metadata": {
  "kernelspec": {
   "display_name": "Python 3 (ipykernel)",
   "language": "python",
   "name": "python3"
  },
  "language_info": {
   "codemirror_mode": {
    "name": "ipython",
    "version": 3
   },
   "file_extension": ".py",
   "mimetype": "text/x-python",
   "name": "python",
   "nbconvert_exporter": "python",
   "pygments_lexer": "ipython3",
   "version": "3.11.3"
  }
 },
 "nbformat": 4,
 "nbformat_minor": 5
}
